{
 "cells": [
  {
   "cell_type": "markdown",
   "metadata": {},
   "source": [
    "## <span style = 'color:green'>Assignment on python fundamentals</span>\n"
   ]
  },
  {
   "cell_type": "markdown",
   "metadata": {},
   "source": [
    "1. **By using 'print' function print the provided string in specified format**\n",
    "**your executiion should be this**: \n",
    "\n",
    "Hello World           \n",
    "  Welcome to 'Python' Programming"
   ]
  },
  {
   "cell_type": "code",
   "execution_count": null,
   "metadata": {},
   "outputs": [],
   "source": [
    "#start your code here\n",
    "print(\"Hello World \\nWelcome to 'Python' Programming\")\n",
    "\n"
   ]
  },
  {
   "cell_type": "markdown",
   "metadata": {},
   "source": []
  },
  {
   "cell_type": "markdown",
   "metadata": {},
   "source": [
    "2. **Check the python version which you are using**"
   ]
  },
  {
   "cell_type": "code",
   "execution_count": 3,
   "metadata": {},
   "outputs": [],
   "source": [
    "#start your code here\n",
    "import sys\n",
    "print(\"Python version\")\n",
    "print (sys.version)\n"
   ]
  },
  {
   "cell_type": "markdown",
   "metadata": {},
   "source": [
    "3. **Design a Python program which can calculate the area by taking readius as input by user input method**\n",
    "<table>\n",
    "  <tr>\n",
    "  <td><td>\n",
    "   <br> instead of giving direct values try using \"float(input())\" </td>\n",
    "  </tr>\n",
    "</table>"
   ]
  },
  {
   "cell_type": "code",
   "execution_count": null,
   "metadata": {},
   "outputs": [],
   "source": [
    "#start your code here\n",
    "import math\n",
    "rad= float(input(\"enter the radius of circle: \"))\n",
    "Areaof_circle= math.pi*rad*rad\n",
    "print(\"Area of circle is\",round(Areaof_circle,2))"
   ]
  },
  {
   "cell_type": "markdown",
   "metadata": {},
   "source": [
    "4. **Write a python program which can take your first and last name seperately and execute as** \n",
    "<table>\n",
    "  <tr>\n",
    "  <td><td>\n",
    "   <br>**Sample execution** : Hello 'first name' 'last name', hope you are doing good</td>\n",
    "  </tr>\n",
    "</table>\n"
   ]
  },
  {
   "cell_type": "markdown",
   "metadata": {},
   "source": [
    "5. **Write a python program which can convert kilograms to grams**\n"
   ]
  },
  {
   "cell_type": "code",
   "execution_count": null,
   "metadata": {},
   "outputs": [],
   "source": [
    "#start your code here\n",
    "Weight= float(input(\"enter the Weight in KG: \"))\n",
    "kg_to_gm= Weight*1000\n",
    "print(kg_to_gm)"
   ]
  },
  {
   "cell_type": "markdown",
   "metadata": {},
   "source": [
    "6. **Create a list and store the given elements in the list**\n",
    "  <table>\n",
    "  <tr>\n",
    "  <td><td>\n",
    "   <br>Elements : 'Bengaluru','New York', 1971, '1682', (1,2,3,4,5,'Is this tuple?'),\"'Hello,welcome to Python Programming'\"</td>\n",
    "  </tr>\n",
    "</table>\n",
    "- Try to extract entire tuple by using positive indexing\n",
    "- Can we add elements into tuple after creating it?\n",
    "- Remove '1682' and 'New York' from the list\n",
    "- Discuss one practical application of tuple and lists\n",
    "- Access 'Bengaluru' by Negitive indexing\n",
    "- add 'Mumbai' into the list\n",
    "- Try to perform one operation on each removal operation on lists \n",
    "1. del\n",
    "2. remove\n",
    "3. pop\n",
    "- Try to perform one operation on each operational\n",
    "1. append\n",
    "2. entend\n",
    "3. insert"
   ]
  },
  {
   "cell_type": "code",
   "execution_count": null,
   "metadata": {},
   "outputs": [],
   "source": []
  },
  {
   "cell_type": "markdown",
   "metadata": {},
   "source": [
    "Practical example of List:\n",
    " As List is mutable, we can create list of various subjects for students,the random information that we can update anytime..for eg. the list of 11 players in cricket Team..So there is possibilty that player wil get change after some time or new player will get added\n",
    "\n",
    "Practical example of tuple: Tuple is Immutalbe..So we generally store such set of values that will not change throughout the program.\n",
    "for eg..1)the Table of 2 or any number that cannot be changed.\n",
    "        2)You can use a Tuple to store the latitude and longitude of particular area\n"
   ]
  },
  {
   "cell_type": "code",
   "execution_count": null,
   "metadata": {},
   "outputs": [],
   "source": [
    "#start your code here\n",
    "el = ['Bengaluru','New York', 1971, '1682', (1,2,3,4,5,'Is this tuple?'),\"'Hello,welcome to Python Programming'\"]\n",
    "print(\"this is complete starting string:\\n \",el)\n",
    "# extracting tuple from list\n",
    "tuple_ex = el[4]\n",
    "print(\"extracting tuple from list: \\n\",tuple_ex)\n",
    "# NO, WE CAN NOT ADD ELEMENTS IN TUPLE AS TUPLE IS IMMUTABLE\n",
    "\n",
    "# removing 1682 and New York from List\n",
    "el.remove(\"1682\")\n",
    "el.remove(\"New York\")\n",
    "print(\"removing 1682 and New York from List: \\n\",el)\n",
    "\n",
    "#accessing Bengluru by negative Indexing\n",
    "print(\"accessing Bengluru by negative Indexing: \\n\",el[-4:-3])\n",
    "\n",
    "#adding mumbai to List\n",
    "el.append(\"Mumbai\")\n",
    "print(\"adding mumbai to Listn using append: \\n\",el)\n",
    "\n",
    "#del operation on list\n",
    "print (\"list before deleteing first index item of list: \",el)\n",
    "del el[1]\n",
    "print (\"list after deleteing first item of list: \",el)\n",
    "\n",
    "#pop operation on list\n",
    "\n",
    "print(el.pop())\n",
    "\n",
    "#insert operation on list\n",
    "el.insert(1,\"pune\")\n",
    "print(\"list after inserting pune string at 1st index\",el)\n",
    "\n",
    "\n",
    "#entend operation on list\n",
    "nl=[3,1995,\"Delhi\"]#creating new list to extend\n",
    "\n",
    "el.extend(nl)\n",
    "print(\"printing list after extend nl\",el)\n",
    "\n",
    "\n",
    "\n",
    "\n",
    "\n",
    "\n",
    "\n"
   ]
  },
  {
   "cell_type": "markdown",
   "metadata": {},
   "source": [
    "7. **Write a python program which can calculate the electricity bill by considering the no of units consumed and other parameters are mentioned below**\n",
    "- If units consumed is less than 50 then bill amount should be 100INR\n",
    "- If units consumed between 50 - 300 then each unit will be charged at 4.5 INR\n",
    "-  If units consumed more than 300 then that billed individual have to pay base pay as 1000INR and 300 units will be reduced from his total consumed units and for remaining units 7 INR will be charged for each unit.\n",
    "- Execution should be "
   ]
  },
  {
   "cell_type": "markdown",
   "metadata": {},
   "source": [
    "In below program, we have taken user Input as a Units."
   ]
  },
  {
   "cell_type": "code",
   "execution_count": null,
   "metadata": {},
   "outputs": [],
   "source": [
    "#start your code here\n",
    "units= int(input(\"enter the units: \"))\n",
    "bill=0\n",
    "if units<50:\n",
    "    bill=100\n",
    "elif units>=50 and units<=300:\n",
    "    bill= units*4.5\n",
    "elif units>300:\n",
    "    bill= 1000 + (units-300)*7\n",
    "\n",
    "print(f\"the electricity bill for {units} units is {bill} INR RS\" )\n"
   ]
  },
  {
   "cell_type": "markdown",
   "metadata": {},
   "source": [
    "8. **Write a program to calculate the tax of the vehicle based on the price**\n",
    "- below are the parameters to consider\n",
    "\n",
    "\n",
    "    Cost price (in Rs)                                            Tax\n",
    "        > 150000                                                  15 %\n",
    "        > 50000 and <= 100000                                     10%"
   ]
  },
  {
   "cell_type": "code",
   "execution_count": 9,
   "metadata": {},
   "outputs": [],
   "source": [
    "cp=int(input(\"enter the cost price of bike: \"))\n",
    "tax=0\n",
    "if cp>150000:\n",
    "    tax=0.15\n",
    "elif cp>50000 and cp<=100000:\n",
    "    tax=0.10\n",
    "else:\n",
    "    print(\"you have entered out of bound cp..Plase re-enter it\")\n",
    "\n",
    "if(tax>0):\n",
    "    print('the tax on your vehile is',cp*tax)"
   ]
  },
  {
   "cell_type": "markdown",
   "metadata": {},
   "source": [
    "9. **Write a program to check if the input is positive or negitive**\n"
   ]
  },
  {
   "cell_type": "code",
   "execution_count": 10,
   "metadata": {},
   "outputs": [],
   "source": [
    "#start your code here\n",
    "ip= int(input(\"enter the number: \"))\n",
    "if ip>=0:\n",
    "    print(f\"the {ip} is the postive number\")\n",
    "else:\n",
    "    print(f\"the {ip} is the negative number\")\n"
   ]
  },
  {
   "cell_type": "markdown",
   "metadata": {},
   "source": [
    "10. **Define a function which can multiply the string with n number of times**\n",
    "- string = \"python programming\""
   ]
  },
  {
   "cell_type": "code",
   "execution_count": null,
   "metadata": {},
   "outputs": [],
   "source": [
    "#start your code here\n",
    "def mul_str(n):\n",
    "    a= \"python programming \"\n",
    "    print(a*n)\n",
    "\n",
    "mul_str(int(input('enter the number of times you want to multiply string: ')))\n"
   ]
  },
  {
   "cell_type": "markdown",
   "metadata": {},
   "source": [
    "11. **Define a function whicg can sum up two numbers** \n"
   ]
  },
  {
   "cell_type": "code",
   "execution_count": 12,
   "metadata": {},
   "outputs": [],
   "source": [
    "#start your code here\n",
    "def sum(x,y):\n",
    "    \n",
    "    print(x+y)\n",
    "\n",
    "sum(23,44)"
   ]
  },
  {
   "cell_type": "markdown",
   "metadata": {},
   "source": [
    "12. **Define a function which can identify if a user has entered specifit string or not**\n",
    "- specified string = \"India\""
   ]
  },
  {
   "cell_type": "code",
   "execution_count": 13,
   "metadata": {},
   "outputs": [],
   "source": [
    "#start your code here\n",
    "def str_check(a):\n",
    "    typ= type(a)\n",
    "    if typ==str:\n",
    "        return True\n",
    "    else:\n",
    "        return False\n",
    "\n",
    "op=str_check(\"we are passing the string\")\n",
    "if op==True:\n",
    "    print(\"This is string\")\n",
    "else:\n",
    "    print(\"This is not string\")\n",
    "\n"
   ]
  },
  {
   "cell_type": "markdown",
   "metadata": {},
   "source": [
    "13. **define a function which will greet by taking user name as input**\n",
    "- input = name\n",
    "- hello 'name', hope you are doing good"
   ]
  },
  {
   "cell_type": "code",
   "execution_count": 14,
   "metadata": {},
   "outputs": [],
   "source": [
    "#start your code here\n",
    "name= input(\"Enter your name:\")\n",
    "print(f\"hello {name}, hope you are doing good\")"
   ]
  },
  {
   "cell_type": "markdown",
   "metadata": {},
   "source": [
    "14. **Define a function which can give us the entire prime numbers till the input**\n"
   ]
  },
  {
   "cell_type": "code",
   "execution_count": null,
   "metadata": {},
   "outputs": [],
   "source": [
    "#start your code here\n",
    "def prm_chk(num):\n",
    "    for j in range (2,num):\n",
    "        for i in range(2,j):\n",
    "            if (j % i)==0:\n",
    "                break\n",
    "        else:\n",
    "            print(j)                \n",
    "prm_chk(10)"
   ]
  },
  {
   "cell_type": "markdown",
   "metadata": {},
   "source": [
    "15. **Q.1 Check if a given string is palindrome.**\n",
    "    <br> A string is palindrome if the reverse of the string is same as itself.\n",
    "    <br> For eg. madam\n",
    "    <br> Print \"`<string>` is palindrome\" if it is palindrome \n",
    "    <br> else \"`<string>` is not a palindrome\" if it is not a palindrome.\n",
    "    <br> Hint : Use slicing to get reverse of the string."
   ]
  },
  {
   "cell_type": "code",
   "execution_count": null,
   "metadata": {},
   "outputs": [],
   "source": [
    "#start your code here\n",
    "#palindrome check\n",
    "\n",
    "ip=input(\"enter any string: \")\n",
    "pln_ck= ip[::-1]\n",
    "if pln_ck==ip:\n",
    "    print(f\"wow..{ip} is palindrome string\")\n",
    "else:\n",
    "    print(f\"{ip} is not palinmdrome string\")\n",
    "\n"
   ]
  },
  {
   "cell_type": "markdown",
   "metadata": {},
   "source": [
    "16. **Write a python program to find n is a leap year** \n",
    "<br> Print \"n is a leap year\" if the given year is leap year.\n",
    "<br> Print \"n is not a leap year\" if the given year is not leap year.\n",
    "<br> Replace n with given year.\n",
    "<br> Hint : Use nested if-else "
   ]
  },
  {
   "cell_type": "code",
   "execution_count": 17,
   "metadata": {},
   "outputs": [],
   "source": [
    "#start your codes here\n",
    "year= 2020\n",
    "\n",
    "\n",
    "if (year % 400 == 0) and (year % 100 == 0):\n",
    "    print(f\"{year} is a leap year\")\n",
    "\n",
    "elif (year % 4 ==0) and (year % 100 != 0):\n",
    "    print(f\"{year} is a leap year\")\n",
    "\n",
    "else:\n",
    "    print(f\"{year} is not a leap year\")"
   ]
  },
  {
   "cell_type": "markdown",
   "metadata": {},
   "source": [
    "17. **Write a python program to check if n is leap year**"
   ]
  },
  {
   "cell_type": "code",
   "execution_count": 2,
   "metadata": {},
   "outputs": [
    {
     "name": "stdout",
     "output_type": "stream",
     "text": [
      "2020 is a leap year\n"
     ]
    }
   ],
   "source": [
    "#start you# Python program to check if year is a leap year or not\n",
    "\n",
    "year= 2020\n",
    "\n",
    "\n",
    "if (year % 400 == 0) and (year % 100 == 0):\n",
    "    print(f\"{year} is a leap year\")\n",
    "\n",
    "elif (year % 4 ==0) and (year % 100 != 0):\n",
    "    print(f\"{year} is a leap year\")\n",
    "\n",
    "else:\n",
    "    print(f\"{year} is not a leap year\")\n",
    "\n"
   ]
  },
  {
   "cell_type": "markdown",
   "metadata": {},
   "source": [
    "18.  **Find the largest among three numbers**\n",
    "\n",
    "eg. Consider a,b,c as the three numbers, find which is the  largest number among them"
   ]
  },
  {
   "cell_type": "markdown",
   "metadata": {},
   "source": [
    "There are multiple ways to find largest number among any  n numbers. below are few of them."
   ]
  },
  {
   "cell_type": "code",
   "execution_count": null,
   "metadata": {},
   "outputs": [],
   "source": [
    "import math\n",
    "print(max(34,35,444))"
   ]
  },
  {
   "cell_type": "code",
   "execution_count": null,
   "metadata": {},
   "outputs": [],
   "source": [
    "#start your code here\n",
    "def max_3(x,y,z):\n",
    "    if(x>y) and (x>z):\n",
    "        return x\n",
    "    elif (y>x) and (y>z):\n",
    "        return y\n",
    "    else:\n",
    "        return z\n",
    "\n",
    "print(max_3(10,20,30))"
   ]
  },
  {
   "cell_type": "markdown",
   "metadata": {},
   "source": [
    "19. **write a python program to print even numbers from 1 to 15 by using range function**\n"
   ]
  },
  {
   "cell_type": "code",
   "execution_count": null,
   "metadata": {},
   "outputs": [],
   "source": [
    "#start your code here\n",
    "for i in range (1,16):\n",
    "    print(i, end=\" \")"
   ]
  },
  {
   "cell_type": "markdown",
   "metadata": {},
   "source": [
    "20. **Write a program to guess the integer which is selected by computerby using  randint**\n",
    "- use random and radint \n",
    "- range should be 1 to 10\n",
    "- if user's number is greater than 10 then program should say your guess is too high\n",
    "- if user input is matches with the computer choice then your program should say \"yey! correct guess\"\n",
    "- otherwise your program should say too low"
   ]
  },
  {
   "cell_type": "code",
   "execution_count": null,
   "metadata": {},
   "outputs": [],
   "source": [
    "#start your code here\n",
    "import random\n",
    "num = random.randint(1, 10)\n",
    "print(num)\n",
    "ip= int(input(\"Enter any number: \"))\n",
    "if (num!=ip):\n",
    "    if ip>num:\n",
    "        print(\"your guess is too high\")\n",
    "    elif ip<num:\n",
    "        print(\"your guess is too low\")\n",
    "else:\n",
    "    print(\"yey! correct guess\")"
   ]
  },
  {
   "cell_type": "code",
   "execution_count": null,
   "metadata": {},
   "outputs": [],
   "source": []
  },
  {
   "cell_type": "code",
   "execution_count": null,
   "metadata": {},
   "outputs": [],
   "source": []
  },
  {
   "cell_type": "code",
   "execution_count": null,
   "metadata": {},
   "outputs": [],
   "source": []
  }
 ],
 "metadata": {
  "kernelspec": {
   "display_name": "Python 3 (ipykernel)",
   "language": "python",
   "name": "python3"
  },
  "language_info": {
   "codemirror_mode": {
    "name": "ipython",
    "version": 3
   },
   "file_extension": ".py",
   "mimetype": "text/x-python",
   "name": "python",
   "nbconvert_exporter": "python",
   "pygments_lexer": "ipython3",
   "version": "3.9.12"
  },
  "vscode": {
   "interpreter": {
    "hash": "bb63f3879b8ba81d3ca608dd6adf944d6106ef3ce940c069f0398d729a1bcb4f"
   }
  }
 },
 "nbformat": 4,
 "nbformat_minor": 4
}
